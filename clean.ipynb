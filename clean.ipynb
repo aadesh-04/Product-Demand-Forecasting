{
 "cells": [
  {
   "cell_type": "code",
   "execution_count": 333,
   "metadata": {},
   "outputs": [],
   "source": [
    "import pandas as pd\n",
    "import re"
   ]
  },
  {
   "cell_type": "code",
   "execution_count": 334,
   "metadata": {},
   "outputs": [],
   "source": [
    "# Load the dataset\n",
    "file_path = \"Cleaned_Scheme_Details_Encoded.csv\"\n",
    "df = pd.read_csv(file_path)"
   ]
  },
  {
   "cell_type": "code",
   "execution_count": 335,
   "metadata": {},
   "outputs": [],
   "source": [
    "# Mapping of cities to their respective states\n",
    "city_state_mapping = {\n",
    "    \"Mumbai\": \"Maharashtra\", \"Delhi\": \"Delhi\", \"Bangalore\": \"Karnataka\", \"Kolkata\": \"West Bengal\", \n",
    "    \"Chennai\": \"Tamil Nadu\", \"Hyderabad\": \"Telangana\", \"Pune\": \"Maharashtra\", \"Ahmedabad\": \"Gujarat\", \n",
    "    \"Surat\": \"Gujarat\", \"Cochin\": \"Kerala\", \"Trivandrum\": \"Kerala\", \"Jaipur\": \"Rajasthan\", \"Lucknow\": \"Uttar Pradesh\", \n",
    "    \"Kanpur\": \"Uttar Pradesh\", \"Nagpur\": \"Maharashtra\", \"Indore\": \"Madhya Pradesh\", \"Thane\": \"Maharashtra\", \n",
    "    \"Bhopal\": \"Madhya Pradesh\", \"Visakhapatnam\": \"Andhra Pradesh\", \"Patna\": \"Bihar\", \"Calicut\": \"Kerala\", \n",
    "    \"Panjim\": \"Goa\", \"Vadodara\": \"Gujarat\", \"Ghaziabad\": \"Uttar Pradesh\", \"Ludhiana\": \"Punjab\", \"Agra\": \"Uttar Pradesh\", \n",
    "    \"Nashik\": \"Maharashtra\", \"Faridabad\": \"Haryana\", \"Meerut\": \"Uttar Pradesh\", \"Rajkot\": \"Gujarat\", \n",
    "    \"Kalyan\": \"Maharashtra\", \"Sirsa\": \"Haryana\", \"Vasai\": \"Maharashtra\", \"Varanasi\": \"Uttar Pradesh\", \n",
    "    \"Srinagar\": \"Jammu and Kashmir\", \"Aurangabad\": \"Maharashtra\", \"Dhanbad\": \"Jharkhand\", \"Amritsar\": \"Punjab\", \n",
    "    \"Navi Mumbai\": \"Maharashtra\", \"Allahabad\": \"Uttar Pradesh\", \"Kolhapur\": \"Maharashtra\", \"Ranchi\": \"Jharkhand\", \n",
    "    \"Howrah\": \"West Bengal\", \"Jabalpur\": \"Madhya Pradesh\", \"Gwalior\": \"Madhya Pradesh\", \"Coimbatore\": \"Tamil Nadu\", \n",
    "    \"Vijayawada\": \"Andhra Pradesh\", \"Jodhpur\": \"Rajasthan\", \"Madurai\": \"Tamil Nadu\", \"Zirakhpur\": \"Punjab\", \n",
    "    \"Raipur\": \"Chhattisgarh\", \"Kota\": \"Rajasthan\", \"Chandigarh\": \"Chandigarh\", \"Guwahati\": \"Assam\", \n",
    "    \"Solapur\": \"Maharashtra\", \"Hubli\": \"Karnataka\", \"Belgaum\": \"Karnataka\", \"Dharwad\": \"Karnataka\", \n",
    "    \"Gokak\": \"Karnataka\", \"Jammu\": \"Jammu and Kashmir\", \"Parwanoo\": \"Himachal Pradesh\", \"Chikodi\": \"Karnataka\", \n",
    "    \"Karwar\": \"Karnataka\", \"Nippani\": \"Karnataka\", \"Anantapur\": \"Andhra Pradesh\", \"Secunderabad\": \"Telangana\", \n",
    "    \"Hanumakonda\": \"Telangana\", \"Calcutta\": \"West Bengal\", \"Ambala\": \"Haryana\", \"Cuttak\": \"Odisha\"\n",
    "}\n"
   ]
  },
  {
   "cell_type": "code",
   "execution_count": 336,
   "metadata": {},
   "outputs": [],
   "source": [
    "# Function to extract city and state\n",
    "def extract_city_state(location):\n",
    "    location = location.strip()\n",
    "\n",
    "    # Handle \"All India\" cases\n",
    "    if \"all india\" in location.lower():\n",
    "        return \"\", \"All India\"\n",
    "    elif \"except\" in location.lower():\n",
    "        match = re.search(r\"except\\s+([\\w\\s]+)\", location, re.IGNORECASE)\n",
    "        state = match.group(1).strip() if match else \"\"\n",
    "        return \"\", f\"All India Except {state}\"\n",
    "\n",
    "    # Match cities from mapping\n",
    "    for city, state in city_state_mapping.items():\n",
    "        if city.lower() in location.lower():\n",
    "            return city, state\n",
    "\n",
    "    # If no match is found, return empty state\n",
    "    return location, \"\""
   ]
  },
  {
   "cell_type": "code",
   "execution_count": 337,
   "metadata": {},
   "outputs": [],
   "source": [
    "# Apply function\n",
    "df[[\"CITY\", \"STATE\"]] = df[\"LOCATION\"].apply(lambda loc: pd.Series(extract_city_state(loc)))"
   ]
  },
  {
   "cell_type": "code",
   "execution_count": 338,
   "metadata": {},
   "outputs": [],
   "source": [
    "# Save the processed file\n",
    "output_file = \"Cleaned_Scheme_Details_Processed.csv\"\n",
    "df.to_csv(output_file, index=False)"
   ]
  }
 ],
 "metadata": {
  "kernelspec": {
   "display_name": "Python 3",
   "language": "python",
   "name": "python3"
  },
  "language_info": {
   "codemirror_mode": {
    "name": "ipython",
    "version": 3
   },
   "file_extension": ".py",
   "mimetype": "text/x-python",
   "name": "python",
   "nbconvert_exporter": "python",
   "pygments_lexer": "ipython3",
   "version": "3.11.9"
  }
 },
 "nbformat": 4,
 "nbformat_minor": 2
}
